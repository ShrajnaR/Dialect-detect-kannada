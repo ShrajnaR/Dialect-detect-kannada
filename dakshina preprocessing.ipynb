{
 "cells": [
  {
   "cell_type": "code",
   "execution_count": 1,
   "id": "ddcff9e0",
   "metadata": {},
   "outputs": [
    {
     "data": {
      "text/plain": [
       "'C:/Users/dell/Documents/pdak_audio.mp3'"
      ]
     },
     "execution_count": 1,
     "metadata": {},
     "output_type": "execute_result"
    }
   ],
   "source": [
    "from pydub import AudioSegment\n",
    "from pydub.silence import detect_nonsilent\n",
    "\n",
    "def remove_silence(audio, silence_thresh=-40, min_silence_len=100, keep_silence=True):\n",
    "    # Find non-silent intervals\n",
    "    nonsilent_intervals = detect_nonsilent(audio, silence_thresh=silence_thresh, min_silence_len=min_silence_len)\n",
    "\n",
    "    # Remove silence intervals\n",
    "    segments = [audio[start:stop] for start, stop in nonsilent_intervals]\n",
    "    non_silent_audio = sum(segments, AudioSegment.silent(duration=keep_silence))\n",
    "\n",
    "    return non_silent_audio\n",
    "\n",
    "def preprocess_audio(input_file, output_file):\n",
    "    # Load the audio file\n",
    "    audio = AudioSegment.from_mp3(input_file)\n",
    "\n",
    "    # Example: Remove silence (noise)\n",
    "    # Adjust the parameters as needed (silence_thresh, min_silence_len, and keep_silence)\n",
    "    non_silent_audio = remove_silence(audio, silence_thresh=-40, min_silence_len=100, keep_silence=True)\n",
    "\n",
    "    # Example: Normalize audio levels\n",
    "    non_silent_audio = non_silent_audio.normalize()\n",
    "\n",
    "    # Save the preprocessed audio to a new MP3 file\n",
    "    non_silent_audio.export(output_file, format=\"mp3\")\n",
    "\n",
    "    return output_file\n",
    "\n",
    "# Example usage\n",
    "input_audio_file = \"C:/Users/dell/Downloads/dakshinakannada500.mp3\"\n",
    "output_audio_file = \"C:/Users/dell/Documents/pdak_audio.mp3\"\n",
    "\n",
    "preprocess_audio(input_audio_file, output_audio_file)\n"
   ]
  },
  {
   "cell_type": "code",
   "execution_count": null,
   "id": "bcd54a68",
   "metadata": {},
   "outputs": [],
   "source": []
  }
 ],
 "metadata": {
  "kernelspec": {
   "display_name": "Python 3 (ipykernel)",
   "language": "python",
   "name": "python3"
  },
  "language_info": {
   "codemirror_mode": {
    "name": "ipython",
    "version": 3
   },
   "file_extension": ".py",
   "mimetype": "text/x-python",
   "name": "python",
   "nbconvert_exporter": "python",
   "pygments_lexer": "ipython3",
   "version": "3.11.5"
  }
 },
 "nbformat": 4,
 "nbformat_minor": 5
}
